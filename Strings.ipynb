{
 "cells": [
  {
   "cell_type": "markdown",
   "id": "e332b8d2-0325-4690-ba36-29dd569b088d",
   "metadata": {},
   "source": [
    "### Working with String Methods"
   ]
  },
  {
   "cell_type": "code",
   "execution_count": 1,
   "id": "154348cf-dd5c-4063-9043-b38fb93a1c82",
   "metadata": {},
   "outputs": [],
   "source": [
    "s = \"hello world welcome to the string and its functions\""
   ]
  },
  {
   "cell_type": "code",
   "execution_count": 2,
   "id": "bc83c0ed-a0c1-4f8e-8b27-d183fc6c2409",
   "metadata": {},
   "outputs": [
    {
     "data": {
      "text/plain": [
       "'hello world welcome to the string and its functions'"
      ]
     },
     "execution_count": 2,
     "metadata": {},
     "output_type": "execute_result"
    }
   ],
   "source": [
    "s"
   ]
  },
  {
   "cell_type": "code",
   "execution_count": 4,
   "id": "981ce014-0201-470b-9c61-b12b0eb912ac",
   "metadata": {},
   "outputs": [
    {
     "data": {
      "text/plain": [
       "'snoitcnuf sti dna gnirts eht ot emoclew dlrow olleh'"
      ]
     },
     "execution_count": 4,
     "metadata": {},
     "output_type": "execute_result"
    }
   ],
   "source": [
    "s[: : -1] # Reversal of the given string"
   ]
  },
  {
   "cell_type": "code",
   "execution_count": 6,
   "id": "ef5d02b3-12de-4ee5-be78-32172fbdac60",
   "metadata": {},
   "outputs": [
    {
     "data": {
      "text/plain": [
       "'llo '"
      ]
     },
     "execution_count": 6,
     "metadata": {},
     "output_type": "execute_result"
    }
   ],
   "source": [
    "s[2:6]"
   ]
  },
  {
   "cell_type": "code",
   "execution_count": 8,
   "id": "280f4e59-112a-4e23-99c0-a1492b26cd6a",
   "metadata": {},
   "outputs": [
    {
     "data": {
      "text/plain": [
       "20"
      ]
     },
     "execution_count": 8,
     "metadata": {},
     "output_type": "execute_result"
    }
   ],
   "source": [
    "s.find('to') # Returns index of the given substring in the given string,"
   ]
  },
  {
   "cell_type": "code",
   "execution_count": 10,
   "id": "9825801c-f257-4cb4-89ad-ae208cf205b8",
   "metadata": {},
   "outputs": [
    {
     "data": {
      "text/plain": [
       "1"
      ]
     },
     "execution_count": 10,
     "metadata": {},
     "output_type": "execute_result"
    }
   ],
   "source": [
    "s.count(\"to\") #Return the number of non-overlapping occurrences of substring sub in string "
   ]
  },
  {
   "cell_type": "code",
   "execution_count": 12,
   "id": "ffb8f88a-b383-4e6c-93ce-31098ccd84be",
   "metadata": {},
   "outputs": [
    {
     "data": {
      "text/plain": [
       "['hello', 'world', 'welcome', 'to', 'the', 'string', 'and', 'its', 'functions']"
      ]
     },
     "execution_count": 12,
     "metadata": {},
     "output_type": "execute_result"
    }
   ],
   "source": [
    "s.split() # Spits the given input string based on the default seperator as space"
   ]
  },
  {
   "cell_type": "code",
   "execution_count": 13,
   "id": "4c032099-8c80-4b01-bc09-5fa6bee4c177",
   "metadata": {},
   "outputs": [],
   "source": [
    "# s.split(sep=None, maxsplit=-1)"
   ]
  },
  {
   "cell_type": "code",
   "execution_count": 14,
   "id": "ac1a2a7d-8910-49b5-a02b-a9d3130e79d0",
   "metadata": {},
   "outputs": [
    {
     "data": {
      "text/plain": [
       "['hello', 'world', 'welcome', 'to', 'the string and its functions']"
      ]
     },
     "execution_count": 14,
     "metadata": {},
     "output_type": "execute_result"
    }
   ],
   "source": [
    "s.split(maxsplit=4)"
   ]
  },
  {
   "cell_type": "code",
   "execution_count": 15,
   "id": "7c3acab0-7fc7-4e52-bdb8-63c9a242d456",
   "metadata": {},
   "outputs": [],
   "source": [
    "s1= \"hello world welcome to the string and its functions, hello world welcome to the string and its functions, hello world welcome to the string and its functions\""
   ]
  },
  {
   "cell_type": "code",
   "execution_count": 16,
   "id": "7848ecf9-03e8-4e75-81dc-66062bef76b5",
   "metadata": {},
   "outputs": [
    {
     "data": {
      "text/plain": [
       "['hello world welcome to the string and its functions',\n",
       " ' hello world welcome to the string and its functions',\n",
       " ' hello world welcome to the string and its functions']"
      ]
     },
     "execution_count": 16,
     "metadata": {},
     "output_type": "execute_result"
    }
   ],
   "source": [
    "s1.split(\",\")"
   ]
  },
  {
   "cell_type": "code",
   "execution_count": 18,
   "id": "a52b074f-5e32-4187-b0c7-c5fa0a431811",
   "metadata": {},
   "outputs": [],
   "source": [
    "s1 = \"hello world world to the string and its functions\""
   ]
  },
  {
   "cell_type": "code",
   "execution_count": 19,
   "id": "6f795812-bfdd-4e8c-ac52-64b933d5ef80",
   "metadata": {},
   "outputs": [
    {
     "data": {
      "text/plain": [
       "['hello ', ' ', ' to the string and its functions']"
      ]
     },
     "execution_count": 19,
     "metadata": {},
     "output_type": "execute_result"
    }
   ],
   "source": [
    "s1.split(\"world\")"
   ]
  },
  {
   "cell_type": "markdown",
   "id": "154f77bc-2044-488a-b05d-02b2a013153b",
   "metadata": {},
   "source": [
    "### Built in functions"
   ]
  },
  {
   "cell_type": "code",
   "execution_count": 20,
   "id": "d2306eab-15b6-40e9-8712-be3422833778",
   "metadata": {},
   "outputs": [
    {
     "data": {
      "text/plain": [
       "'HELLO WORLD WELCOME TO THE STRING AND ITS FUNCTIONS'"
      ]
     },
     "execution_count": 20,
     "metadata": {},
     "output_type": "execute_result"
    }
   ],
   "source": [
    "s.upper()"
   ]
  },
  {
   "cell_type": "code",
   "execution_count": 21,
   "id": "cd63b0d5-3e66-41b4-9f2d-77b571cbafe4",
   "metadata": {},
   "outputs": [
    {
     "data": {
      "text/plain": [
       "'hello world welcome to the string and its functions'"
      ]
     },
     "execution_count": 21,
     "metadata": {},
     "output_type": "execute_result"
    }
   ],
   "source": [
    "s.lower()"
   ]
  },
  {
   "cell_type": "code",
   "execution_count": 70,
   "id": "ab53ea35-ab78-4ced-9294-2ac4660491ba",
   "metadata": {},
   "outputs": [],
   "source": [
    "s = \"Hello World Welcome Now we are Learning SWAPCASE\""
   ]
  },
  {
   "cell_type": "code",
   "execution_count": 24,
   "id": "084b7c8f-f8e0-43df-9413-4f2436096f95",
   "metadata": {},
   "outputs": [
    {
     "data": {
      "text/plain": [
       "'hELLO wORLD wELCOME nOW WE ARE lEARNING swapcase'"
      ]
     },
     "execution_count": 24,
     "metadata": {},
     "output_type": "execute_result"
    }
   ],
   "source": [
    "s.swapcase()"
   ]
  },
  {
   "cell_type": "code",
   "execution_count": 25,
   "id": "b8297aea-ba26-4012-b665-a55fa7c9af4d",
   "metadata": {},
   "outputs": [
    {
     "data": {
      "text/plain": [
       "'H e l l o   W o r l d   W e l c o m e   N o w   w e   a r e   L e a r n i n g   S W A P C A S E'"
      ]
     },
     "execution_count": 25,
     "metadata": {},
     "output_type": "execute_result"
    }
   ],
   "source": [
    "\" \".join(s)"
   ]
  },
  {
   "cell_type": "code",
   "execution_count": 60,
   "id": "8fbe2daf-bf1d-4711-945b-6d101f9c3ebd",
   "metadata": {},
   "outputs": [
    {
     "data": {
      "text/plain": [
       "False"
      ]
     },
     "execution_count": 60,
     "metadata": {},
     "output_type": "execute_result"
    }
   ],
   "source": [
    "s.isupper()"
   ]
  },
  {
   "cell_type": "code",
   "execution_count": 61,
   "id": "ab1cf94a-2583-4bac-8ed8-0d29c1757b1e",
   "metadata": {},
   "outputs": [
    {
     "data": {
      "text/plain": [
       "True"
      ]
     },
     "execution_count": 61,
     "metadata": {},
     "output_type": "execute_result"
    }
   ],
   "source": [
    "s.islower()"
   ]
  },
  {
   "cell_type": "code",
   "execution_count": 62,
   "id": "319035ba-9951-4519-bd64-2dbc88eb12c6",
   "metadata": {},
   "outputs": [
    {
     "data": {
      "text/plain": [
       "False"
      ]
     },
     "execution_count": 62,
     "metadata": {},
     "output_type": "execute_result"
    }
   ],
   "source": [
    "s.isdigit()"
   ]
  },
  {
   "cell_type": "code",
   "execution_count": 67,
   "id": "3eb1743b-669a-4595-a679-32253a6c2a35",
   "metadata": {},
   "outputs": [
    {
     "data": {
      "text/plain": [
       "True"
      ]
     },
     "execution_count": 67,
     "metadata": {},
     "output_type": "execute_result"
    }
   ],
   "source": [
    "s.endswith(\"E\")"
   ]
  },
  {
   "cell_type": "code",
   "execution_count": 68,
   "id": "34c996d4-5c6f-4e0f-a582-0e17c050268e",
   "metadata": {},
   "outputs": [
    {
     "data": {
      "text/plain": [
       "False"
      ]
     },
     "execution_count": 68,
     "metadata": {},
     "output_type": "execute_result"
    }
   ],
   "source": [
    "s.isalnum()"
   ]
  },
  {
   "cell_type": "code",
   "execution_count": 74,
   "id": "da9a6bb0-11f8-4f21-9568-ed4cfa34a109",
   "metadata": {},
   "outputs": [],
   "source": [
    "s = \"thisscheckingpaces\""
   ]
  },
  {
   "cell_type": "code",
   "execution_count": 75,
   "id": "724f304a-ece9-4698-a461-51cbc6023698",
   "metadata": {},
   "outputs": [
    {
     "data": {
      "text/plain": [
       "True"
      ]
     },
     "execution_count": 75,
     "metadata": {},
     "output_type": "execute_result"
    }
   ],
   "source": [
    "s.isalpha()"
   ]
  },
  {
   "cell_type": "code",
   "execution_count": 76,
   "id": "d157ed5c-dc2b-4fd5-b27b-642e46d77876",
   "metadata": {},
   "outputs": [],
   "source": [
    "s = \"Hello World Welcome Now we are Learning SWAPCASE\""
   ]
  },
  {
   "cell_type": "code",
   "execution_count": 78,
   "id": "41e1e205-d8af-4510-b47e-c5488299a44b",
   "metadata": {},
   "outputs": [
    {
     "data": {
      "text/plain": [
       "'Hello World Welcome Now We Are Learning Swapcase'"
      ]
     },
     "execution_count": 78,
     "metadata": {},
     "output_type": "execute_result"
    }
   ],
   "source": [
    "# Converts the first Character of each word to uppercase\n",
    "s.title() "
   ]
  },
  {
   "cell_type": "code",
   "execution_count": null,
   "id": "f69edca5-2660-4505-8ec8-c76edfad3f1d",
   "metadata": {},
   "outputs": [],
   "source": []
  },
  {
   "cell_type": "code",
   "execution_count": null,
   "id": "f41f7c80-a4d4-405f-8a81-fa59c3b9a328",
   "metadata": {},
   "outputs": [],
   "source": []
  },
  {
   "cell_type": "code",
   "execution_count": null,
   "id": "12b2dc2e-59be-4f4d-b67c-dc06a6fdd844",
   "metadata": {},
   "outputs": [],
   "source": []
  },
  {
   "cell_type": "code",
   "execution_count": 28,
   "id": "9b155000-4b8b-4cd4-81cc-bdc16d9c3177",
   "metadata": {},
   "outputs": [
    {
     "name": "stdout",
     "output_type": "stream",
     "text": [
      "E S A C P A W S   g n i n r a e L   e r a   e w   w o N   e m o c l e W   d l r o W   o l l e H "
     ]
    }
   ],
   "source": [
    "for i in (reversed(s)):\n",
    "    print(i, end=\" \")"
   ]
  },
  {
   "cell_type": "markdown",
   "id": "3bff043d-bd66-49ac-81e9-32e498cf9434",
   "metadata": {},
   "source": [
    "### Remove leading and trailing spaces"
   ]
  },
  {
   "cell_type": "code",
   "execution_count": 29,
   "id": "df2e0f15-1e18-4c4d-8614-7202cb3921e9",
   "metadata": {},
   "outputs": [],
   "source": [
    "s = \" this is checking spaces \""
   ]
  },
  {
   "cell_type": "code",
   "execution_count": 30,
   "id": "4240d18f-6f75-4294-8e94-c770a7552a0a",
   "metadata": {},
   "outputs": [
    {
     "data": {
      "text/plain": [
       "'this is checking spaces'"
      ]
     },
     "execution_count": 30,
     "metadata": {},
     "output_type": "execute_result"
    }
   ],
   "source": [
    "s.strip()"
   ]
  },
  {
   "cell_type": "code",
   "execution_count": 33,
   "id": "04b202ae-930b-4cc0-9925-3ed0a5ee27b3",
   "metadata": {},
   "outputs": [
    {
     "data": {
      "text/plain": [
       "'this is checking spaces '"
      ]
     },
     "execution_count": 33,
     "metadata": {},
     "output_type": "execute_result"
    }
   ],
   "source": [
    "s.lstrip() # Only removes the spaces at the beginning of the string"
   ]
  },
  {
   "cell_type": "code",
   "execution_count": 34,
   "id": "60d06308-fd1c-4b4a-a892-06c2195fa2ec",
   "metadata": {},
   "outputs": [
    {
     "data": {
      "text/plain": [
       "' this is checking spaces'"
      ]
     },
     "execution_count": 34,
     "metadata": {},
     "output_type": "execute_result"
    }
   ],
   "source": [
    "s.rstrip() # Only removes the right side spaces at the end of the string"
   ]
  },
  {
   "cell_type": "code",
   "execution_count": 35,
   "id": "f7cd9336-4e3a-45d1-a944-49455a49508e",
   "metadata": {},
   "outputs": [
    {
     "data": {
      "text/plain": [
       "' this is checking spAces '"
      ]
     },
     "execution_count": 35,
     "metadata": {},
     "output_type": "execute_result"
    }
   ],
   "source": [
    "s.replace(\"a\", \"A\")"
   ]
  },
  {
   "cell_type": "code",
   "execution_count": 59,
   "id": "7cfa954d-47aa-4d5d-9dd1-939d3018a10b",
   "metadata": {},
   "outputs": [
    {
     "data": {
      "text/plain": [
       "False"
      ]
     },
     "execution_count": 59,
     "metadata": {},
     "output_type": "execute_result"
    }
   ],
   "source": []
  },
  {
   "cell_type": "code",
   "execution_count": null,
   "id": "21cd8bb7-2432-4a12-a564-c348e88132d3",
   "metadata": {},
   "outputs": [],
   "source": []
  },
  {
   "cell_type": "code",
   "execution_count": null,
   "id": "a09da2eb-8850-407c-9c2d-afa5478a67c9",
   "metadata": {},
   "outputs": [],
   "source": []
  },
  {
   "cell_type": "code",
   "execution_count": null,
   "id": "8e4f1862-3a3d-4f00-9591-5499d97a5ed7",
   "metadata": {},
   "outputs": [],
   "source": []
  },
  {
   "cell_type": "markdown",
   "id": "025344b2-4f7e-49e7-91dd-267157946094",
   "metadata": {},
   "source": [
    "### Checking the original string after applying the in-built functions"
   ]
  },
  {
   "cell_type": "code",
   "execution_count": 38,
   "id": "80a064fc-3d39-4592-8eb0-9a5db62189ec",
   "metadata": {
    "tags": []
   },
   "outputs": [
    {
     "data": {
      "text/plain": [
       "' this is checking spaces '"
      ]
     },
     "execution_count": 38,
     "metadata": {},
     "output_type": "execute_result"
    }
   ],
   "source": [
    "s # S value is not changed since the operations are not applied on the string as IN-PLACE. Because strings are IM-MUTABLE."
   ]
  },
  {
   "cell_type": "code",
   "execution_count": 45,
   "id": "8c8807e9-0d95-4fb4-bae5-32da1ec5c073",
   "metadata": {},
   "outputs": [],
   "source": [
    "s = \"we all are a part of Full Stack\""
   ]
  },
  {
   "cell_type": "code",
   "execution_count": 46,
   "id": "f0703338-7f0c-4de0-b0ab-ac9672632d54",
   "metadata": {},
   "outputs": [
    {
     "data": {
      "text/plain": [
       "'we all are a part of Full Stack'"
      ]
     },
     "execution_count": 46,
     "metadata": {},
     "output_type": "execute_result"
    }
   ],
   "source": [
    "s "
   ]
  },
  {
   "cell_type": "code",
   "execution_count": 47,
   "id": "8b74861d-1855-442d-8d20-e72dc531fb03",
   "metadata": {},
   "outputs": [],
   "source": [
    "s = s.lower()"
   ]
  },
  {
   "cell_type": "code",
   "execution_count": 48,
   "id": "2d061572-9d02-481f-975a-7abcc1334299",
   "metadata": {},
   "outputs": [
    {
     "data": {
      "text/plain": [
       "5"
      ]
     },
     "execution_count": 48,
     "metadata": {},
     "output_type": "execute_result"
    }
   ],
   "source": [
    "s.count(\"a\")"
   ]
  },
  {
   "cell_type": "code",
   "execution_count": 56,
   "id": "a8d3c3ee-f4ce-4335-b69d-367ee8cd8cdd",
   "metadata": {},
   "outputs": [
    {
     "data": {
      "text/plain": [
       "3"
      ]
     },
     "execution_count": 56,
     "metadata": {},
     "output_type": "execute_result"
    }
   ],
   "source": [
    "s.index(\"a\")"
   ]
  },
  {
   "cell_type": "code",
   "execution_count": 58,
   "id": "27f87efb-8601-41d4-8cbe-00ec3a900f24",
   "metadata": {},
   "outputs": [
    {
     "name": "stdout",
     "output_type": "stream",
     "text": [
      "[3, 7, 11, 14, 28]\n"
     ]
    }
   ],
   "source": [
    "\n",
    "char = \"a\"\n",
    "indices = [i for i, c in enumerate(s) if c == char]\n",
    "print(indices)"
   ]
  },
  {
   "cell_type": "markdown",
   "id": "e331eb22-f13e-4ceb-b3a3-6ab4e3033d2a",
   "metadata": {},
   "source": [
    "### Using format function in strings\n"
   ]
  },
  {
   "cell_type": "code",
   "execution_count": 80,
   "id": "4ef6bc3d-89b9-4995-9e27-c83384ebae19",
   "metadata": {},
   "outputs": [
    {
     "name": "stdout",
     "output_type": "stream",
     "text": [
      " sairam is ny name\n"
     ]
    }
   ],
   "source": [
    "print(\" {} is ny name\".format(\"sairam\"))"
   ]
  },
  {
   "cell_type": "code",
   "execution_count": 81,
   "id": "f35724aa-1a44-4c8f-a2a9-604bf3026f17",
   "metadata": {},
   "outputs": [
    {
     "name": "stdin",
     "output_type": "stream",
     "text": [
      " venkat\n"
     ]
    },
    {
     "name": "stdout",
     "output_type": "stream",
     "text": [
      "venkat is taken from user\n"
     ]
    }
   ],
   "source": [
    "a = input()\n",
    "print(\"{} is taken from user\".format(a))"
   ]
  },
  {
   "cell_type": "code",
   "execution_count": 82,
   "id": "a3bad65e-9567-40d6-8e38-05e6e26b903c",
   "metadata": {},
   "outputs": [
    {
     "name": "stdout",
     "output_type": "stream",
     "text": [
      "5 + 6 = 11\n"
     ]
    }
   ],
   "source": [
    "print(\"{} + {} = {}\".format(5, 6, 5+6))"
   ]
  },
  {
   "cell_type": "code",
   "execution_count": null,
   "id": "87c776ad-9a3f-4dc0-b506-3cf69c9c03d2",
   "metadata": {},
   "outputs": [],
   "source": []
  },
  {
   "cell_type": "code",
   "execution_count": null,
   "id": "3ded97cc-1c76-41e2-a193-b214aa3bea6f",
   "metadata": {},
   "outputs": [],
   "source": []
  }
 ],
 "metadata": {
  "kernelspec": {
   "display_name": "Python 3 (ipykernel)",
   "language": "python",
   "name": "python3"
  },
  "language_info": {
   "codemirror_mode": {
    "name": "ipython",
    "version": 3
   },
   "file_extension": ".py",
   "mimetype": "text/x-python",
   "name": "python",
   "nbconvert_exporter": "python",
   "pygments_lexer": "ipython3",
   "version": "3.9.12"
  }
 },
 "nbformat": 4,
 "nbformat_minor": 5
}
